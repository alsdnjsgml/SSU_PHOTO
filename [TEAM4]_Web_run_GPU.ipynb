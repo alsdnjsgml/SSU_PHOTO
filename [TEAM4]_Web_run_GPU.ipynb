{
  "nbformat": 4,
  "nbformat_minor": 0,
  "metadata": {
    "accelerator": "GPU",
    "colab": {
      "name": "[TEAM4] Web_run_GPU.ipynb",
      "provenance": [],
      "collapsed_sections": [],
      "machine_shape": "hm",
      "include_colab_link": true
    },
    "kernelspec": {
      "display_name": "Python 3",
      "name": "python3"
    }
  },
  "cells": [
    {
      "cell_type": "markdown",
      "metadata": {
        "id": "view-in-github",
        "colab_type": "text"
      },
      "source": [
        "<a href=\"https://colab.research.google.com/github/sejin-sim/SSU_PHOTO/blob/master/%5BTEAM4%5D_Web_run_GPU.ipynb\" target=\"_parent\"><img src=\"https://colab.research.google.com/assets/colab-badge.svg\" alt=\"Open In Colab\"/></a>"
      ]
    },
    {
      "cell_type": "markdown",
      "metadata": {
        "id": "LeS1-hW11bUg"
      },
      "source": [
        "### Step 1. 아래 셀을 실행 해 주세요. (기본 설치 파일)"
      ]
    },
    {
      "cell_type": "code",
      "metadata": {
        "colab": {
          "base_uri": "https://localhost:8080/"
        },
        "id": "I6arzLA9QJwk",
        "outputId": "73998b73-1c47-4220-8883-7de5c216d5ce"
      },
      "source": [
        "! git clone https://github.com/sejin-sim/SSU_PHOTO.git\n",
        "! pip install flask-ngrok"
      ],
      "execution_count": null,
      "outputs": [
        {
          "output_type": "stream",
          "text": [
            "Cloning into 'SSU_PHOTO'...\n",
            "remote: Enumerating objects: 859, done.\u001b[K\n",
            "remote: Counting objects: 100% (406/406), done.\u001b[K\n",
            "remote: Compressing objects: 100% (335/335), done.\u001b[K\n",
            "remote: Total 859 (delta 258), reused 133 (delta 70), pack-reused 453\u001b[K\n",
            "Receiving objects: 100% (859/859), 222.63 MiB | 26.33 MiB/s, done.\n",
            "Resolving deltas: 100% (486/486), done.\n",
            "Checking out files: 100% (86/86), done.\n",
            "Collecting flask-ngrok\n",
            "  Downloading https://files.pythonhosted.org/packages/af/6c/f54cb686ad1129e27d125d182f90f52b32f284e6c8df58c1bae54fa1adbc/flask_ngrok-0.0.25-py3-none-any.whl\n",
            "Requirement already satisfied: Flask>=0.8 in /usr/local/lib/python3.7/dist-packages (from flask-ngrok) (1.1.4)\n",
            "Requirement already satisfied: requests in /usr/local/lib/python3.7/dist-packages (from flask-ngrok) (2.23.0)\n",
            "Requirement already satisfied: itsdangerous<2.0,>=0.24 in /usr/local/lib/python3.7/dist-packages (from Flask>=0.8->flask-ngrok) (1.1.0)\n",
            "Requirement already satisfied: Jinja2<3.0,>=2.10.1 in /usr/local/lib/python3.7/dist-packages (from Flask>=0.8->flask-ngrok) (2.11.3)\n",
            "Requirement already satisfied: Werkzeug<2.0,>=0.15 in /usr/local/lib/python3.7/dist-packages (from Flask>=0.8->flask-ngrok) (1.0.1)\n",
            "Requirement already satisfied: click<8.0,>=5.1 in /usr/local/lib/python3.7/dist-packages (from Flask>=0.8->flask-ngrok) (7.1.2)\n",
            "Requirement already satisfied: certifi>=2017.4.17 in /usr/local/lib/python3.7/dist-packages (from requests->flask-ngrok) (2020.12.5)\n",
            "Requirement already satisfied: chardet<4,>=3.0.2 in /usr/local/lib/python3.7/dist-packages (from requests->flask-ngrok) (3.0.4)\n",
            "Requirement already satisfied: urllib3!=1.25.0,!=1.25.1,<1.26,>=1.21.1 in /usr/local/lib/python3.7/dist-packages (from requests->flask-ngrok) (1.24.3)\n",
            "Requirement already satisfied: idna<3,>=2.5 in /usr/local/lib/python3.7/dist-packages (from requests->flask-ngrok) (2.10)\n",
            "Requirement already satisfied: MarkupSafe>=0.23 in /usr/local/lib/python3.7/dist-packages (from Jinja2<3.0,>=2.10.1->Flask>=0.8->flask-ngrok) (2.0.1)\n",
            "Installing collected packages: flask-ngrok\n",
            "Successfully installed flask-ngrok-0.0.25\n"
          ],
          "name": "stdout"
        }
      ]
    },
    {
      "cell_type": "markdown",
      "metadata": {
        "id": "WZmHb7c81h3o"
      },
      "source": [
        "### Step 2. 아래 셀을 시작하여 Website에 접속하세요.\n",
        "- 실행 셀의 Running on <u>http://#####</u> 클릭하여 접속\n",
        "- 서버가 1회용으로 제공되기 때문에 1명만 접속이 가능하며, 마우스를 빠르게 클릭하면 에러가 발생할 수 있습니다."
      ]
    },
    {
      "cell_type": "code",
      "metadata": {
        "colab": {
          "base_uri": "https://localhost:8080/"
        },
        "id": "N4j4_vUsQmr3",
        "outputId": "9fb7f152-8a6e-41cf-9d8c-3a40884ef91f"
      },
      "source": [
        "! python /content/SSU_PHOTO/app_colab.py"
      ],
      "execution_count": null,
      "outputs": [
        {
          "output_type": "stream",
          "text": [
            " * Serving Flask app \"app_colab\" (lazy loading)\n",
            " * Environment: production\n",
            "\u001b[31m   WARNING: This is a development server. Do not use it in a production deployment.\u001b[0m\n",
            "\u001b[2m   Use a production WSGI server instead.\u001b[0m\n",
            " * Debug mode: off\n",
            " * Running on http://127.0.0.1:5000/ (Press CTRL+C to quit)\n",
            " * Running on http://5d22abc49bdc.ngrok.io\n",
            " * Traffic stats available on http://127.0.0.1:4040\n",
            "127.0.0.1 - - [31/May/2021 14:19:40] \"\u001b[37mGET / HTTP/1.1\u001b[0m\" 200 -\n",
            "127.0.0.1 - - [31/May/2021 14:19:41] \"\u001b[37mGET /static/css/fonts.css HTTP/1.1\u001b[0m\" 200 -\n",
            "127.0.0.1 - - [31/May/2021 14:19:41] \"\u001b[37mGET /static/css/default.css HTTP/1.1\u001b[0m\" 200 -\n",
            "127.0.0.1 - - [31/May/2021 14:19:41] \"\u001b[37mGET /static/image/s1.GIF HTTP/1.1\u001b[0m\" 200 -\n",
            "127.0.0.1 - - [31/May/2021 14:19:41] \"\u001b[37mGET /static/image/Girl.mp4 HTTP/1.1\u001b[0m\" 206 -\n",
            "127.0.0.1 - - [31/May/2021 14:19:41] \"\u001b[37mGET /static/image/p1.GIF HTTP/1.1\u001b[0m\" 200 -\n",
            "127.0.0.1 - - [31/May/2021 14:19:42] \"\u001b[37mGET /static/image/Girl.mp4 HTTP/1.1\u001b[0m\" 206 -\n",
            "127.0.0.1 - - [31/May/2021 14:19:44] \"\u001b[37mGET /static/image/Girl.mp4 HTTP/1.1\u001b[0m\" 206 -\n",
            "127.0.0.1 - - [31/May/2021 14:19:48] \"\u001b[37mGET /scrath HTTP/1.1\u001b[0m\" 200 -\n",
            "127.0.0.1 - - [31/May/2021 14:19:49] \"\u001b[37mGET /static/css/scratch.css HTTP/1.1\u001b[0m\" 200 -\n",
            "127.0.0.1 - - [31/May/2021 14:19:49] \"\u001b[37mGET /static/js/colorFilter.js HTTP/1.1\u001b[0m\" 200 -\n",
            "127.0.0.1 - - [31/May/2021 14:19:49] \"\u001b[37mGET /static/image/input_violet.jpg HTTP/1.1\u001b[0m\" 200 -\n",
            "127.0.0.1 - - [31/May/2021 14:19:49] \"\u001b[37mGET /static/image/input_green.jpg HTTP/1.1\u001b[0m\" 200 -\n",
            "127.0.0.1 - - [31/May/2021 14:19:49] \"\u001b[37mGET /static/image/input_orignal.jpg HTTP/1.1\u001b[0m\" 200 -\n",
            "127.0.0.1 - - [31/May/2021 14:19:49] \"\u001b[37mGET /static/image/input_red.jpg HTTP/1.1\u001b[0m\" 200 -\n",
            "127.0.0.1 - - [31/May/2021 14:19:50] \"\u001b[37mGET /static/image/input_blue.jpg HTTP/1.1\u001b[0m\" 200 -\n",
            "127.0.0.1 - - [31/May/2021 14:19:50] \"\u001b[37mGET /static/image/loading_horse.gif HTTP/1.1\u001b[0m\" 200 -\n",
            "127.0.0.1 - - [31/May/2021 14:19:50] \"\u001b[37mGET /static/image/loading_wave.gif HTTP/1.1\u001b[0m\" 200 -\n",
            "127.0.0.1 - - [31/May/2021 14:19:53] \"\u001b[37mGET /static/image/favicon.ico HTTP/1.1\u001b[0m\" 200 -\n",
            "127.0.0.1 - - [31/May/2021 14:19:58] \"\u001b[37mGET /scrath_page_scc HTTP/1.1\u001b[0m\" 200 -\n",
            "127.0.0.1 - - [31/May/2021 14:19:58] \"\u001b[37mGET /static/image/photoframe_no.png HTTP/1.1\u001b[0m\" 200 -\n",
            "127.0.0.1 - - [31/May/2021 14:19:59] \"\u001b[37mGET /static/image/photoframe.png HTTP/1.1\u001b[0m\" 200 -\n",
            "127.0.0.1 - - [31/May/2021 14:19:59] \"\u001b[37mGET /static/image/photoframe_1.png HTTP/1.1\u001b[0m\" 200 -\n",
            "127.0.0.1 - - [31/May/2021 14:19:59] \"\u001b[37mGET /static/js/wScratchPad.min.js HTTP/1.1\u001b[0m\" 200 -\n",
            "127.0.0.1 - - [31/May/2021 14:20:00] \"\u001b[33mGET /static/image/canvas_img_gray.jpeg HTTP/1.1\u001b[0m\" 404 -\n",
            "127.0.0.1 - - [31/May/2021 14:20:00] \"\u001b[33mGET /static/image/canvas_img_color.jpeg HTTP/1.1\u001b[0m\" 404 -\n"
          ],
          "name": "stdout"
        }
      ]
    }
  ]
}